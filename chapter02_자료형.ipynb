{
 "cells": [
  {
   "cell_type": "markdown",
   "metadata": {},
   "source": [
    "# Chapter 02 자료형"
   ]
  },
  {
   "cell_type": "markdown",
   "metadata": {},
   "source": [
    "## 2.1 변수와 상수"
   ]
  },
  {
   "cell_type": "markdown",
   "metadata": {},
   "source": [
    "### 변수 선언하기"
   ]
  },
  {
   "cell_type": "code",
   "execution_count": 1,
   "metadata": {},
   "outputs": [],
   "source": [
    "a1 = 2048          # 변수 a1은 숫자를 저장\n",
    "a2 = \"안녕하세요.\" # 변수 a2는 문자열을 저장"
   ]
  },
  {
   "cell_type": "code",
   "execution_count": 2,
   "metadata": {},
   "outputs": [
    {
     "name": "stdout",
     "output_type": "stream",
     "text": [
      "안녕하세요.\n"
     ]
    }
   ],
   "source": [
    "print(a2)"
   ]
  },
  {
   "cell_type": "code",
   "execution_count": 3,
   "metadata": {},
   "outputs": [
    {
     "name": "stdout",
     "output_type": "stream",
     "text": [
      "1024\n"
     ]
    }
   ],
   "source": [
    "a = 1024        # 변수 a에 1024를 저장\n",
    "print (a)       # a를 화면에 출력"
   ]
  },
  {
   "cell_type": "markdown",
   "metadata": {},
   "source": [
    "### 변수명 규칙"
   ]
  },
  {
   "cell_type": "markdown",
   "metadata": {},
   "source": [
    "- 영문자, 숫자, 언더바(_)로 구성\n",
    "- 특수문자, 공백 등은 <b>사용X</b>\n",
    "- 예약어(Reserved Words) <b>사용X</b>"
   ]
  },
  {
   "cell_type": "code",
   "execution_count": 4,
   "metadata": {},
   "outputs": [
    {
     "ename": "SyntaxError",
     "evalue": "invalid syntax (<ipython-input-4-1ed19c576c1d>, line 1)",
     "output_type": "error",
     "traceback": [
      "\u001b[1;36m  File \u001b[1;32m\"<ipython-input-4-1ed19c576c1d>\"\u001b[1;36m, line \u001b[1;32m1\u001b[0m\n\u001b[1;33m    100원 = \"백원\"              # 변수명을 숫자 100으로 시작하여 에러 발생\u001b[0m\n\u001b[1;37m       ^\u001b[0m\n\u001b[1;31mSyntaxError\u001b[0m\u001b[1;31m:\u001b[0m invalid syntax\n"
     ]
    }
   ],
   "source": [
    "100원 = \"백원\"              # 변수명을 숫자 100으로 시작하여 에러 발생\n",
    "email@ = \"test@naver.com\"   # 변수명에 특수문자 @를 사용하여 에러 발생\n",
    "my age = 30                 # 변수명에 공백을 사용하여 에러 발생\n",
    "break = 100                # 변수명에 예약어를 사용하여 에러 발생"
   ]
  },
  {
   "cell_type": "markdown",
   "metadata": {},
   "source": [
    "### 상수 사용하기"
   ]
  },
  {
   "cell_type": "code",
   "execution_count": 5,
   "metadata": {},
   "outputs": [
    {
     "name": "stdout",
     "output_type": "stream",
     "text": [
      "20\n",
      "A\n",
      "선생님\n"
     ]
    }
   ],
   "source": [
    "print(20)         # 숫자 상수 20을 화면에 출력\n",
    "print('A')        # 문자 상수 ‘A’를 화면에 출력\n",
    "print(\"선생님\")   # 문자열 상수 \"선생님\"을 화면에 출력"
   ]
  },
  {
   "cell_type": "code",
   "execution_count": 6,
   "metadata": {},
   "outputs": [
    {
     "name": "stdout",
     "output_type": "stream",
     "text": [
      "5\n",
      "선생님, 안녕하세요!\n"
     ]
    }
   ],
   "source": [
    "x = 3                   # 변수 x에 3을 저장\n",
    "y = x + 2               # 변수 x에 2를 더하여 y에 저장\n",
    "print(y)                # 변수 y를 화면에 출력\n",
    "\n",
    "s= \"선생님\"                    # 변수 s에 “선생님” 저장\n",
    "s = s + \", \" + \"안녕하세요!\"   # 변수 s에 “, “ 와 \"안녕하세요!\"를 더하여 s에 다시 저장\n",
    "print(s)                       # 변수 s를 화면에 출력"
   ]
  },
  {
   "cell_type": "markdown",
   "metadata": {},
   "source": [
    "## 2.2 기본 자료형"
   ]
  },
  {
   "cell_type": "markdown",
   "metadata": {},
   "source": [
    "- 숫자 자료형, 문자열 자료형, bool 자료형, <b>복합 자료형</b>(리스트, 튜플, 딕셔너리 )"
   ]
  },
  {
   "cell_type": "markdown",
   "metadata": {},
   "source": [
    "### 숫자"
   ]
  },
  {
   "cell_type": "code",
   "execution_count": 7,
   "metadata": {},
   "outputs": [
    {
     "name": "stdout",
     "output_type": "stream",
     "text": [
      "<class 'int'>\n"
     ]
    }
   ],
   "source": [
    "a = 359          # 변수 a에 359를 저장\n",
    "print(type(a))   # a의 자료형을 출력(정수형)"
   ]
  },
  {
   "cell_type": "code",
   "execution_count": 8,
   "metadata": {},
   "outputs": [
    {
     "data": {
      "text/plain": [
       "359"
      ]
     },
     "execution_count": 8,
     "metadata": {},
     "output_type": "execute_result"
    }
   ],
   "source": [
    "a = 359         # 변수 a에 359를 저장\n",
    "a               # print() 함수를 사용하지 않아도 저장된 값 확인 가능"
   ]
  },
  {
   "cell_type": "code",
   "execution_count": 9,
   "metadata": {},
   "outputs": [
    {
     "name": "stdout",
     "output_type": "stream",
     "text": [
      "<class 'float'>\n"
     ]
    }
   ],
   "source": [
    "a = -3.619      # 변수 a에 -3.619를 저장\n",
    "print(type(a))  # a의 자료형을 출력(실수형)"
   ]
  },
  {
   "cell_type": "code",
   "execution_count": 10,
   "metadata": {},
   "outputs": [
    {
     "data": {
      "text/plain": [
       "36"
      ]
     },
     "execution_count": 10,
     "metadata": {},
     "output_type": "execute_result"
    }
   ],
   "source": [
    "a = 27          # 변수 a에 27을 저장\n",
    "b = 9           # 변수 b에 9를 저장\n",
    "a + b           # a와 b 더하기, 연산자 + 사용"
   ]
  },
  {
   "cell_type": "code",
   "execution_count": 11,
   "metadata": {},
   "outputs": [
    {
     "data": {
      "text/plain": [
       "18"
      ]
     },
     "execution_count": 11,
     "metadata": {},
     "output_type": "execute_result"
    }
   ],
   "source": [
    "a - b           # a에서 b 빼기, 연산자 - 사용"
   ]
  },
  {
   "cell_type": "code",
   "execution_count": 12,
   "metadata": {},
   "outputs": [
    {
     "data": {
      "text/plain": [
       "243"
      ]
     },
     "execution_count": 12,
     "metadata": {},
     "output_type": "execute_result"
    }
   ],
   "source": [
    "a * b           # a와 b 곱하기, 연산자 * 사용"
   ]
  },
  {
   "cell_type": "code",
   "execution_count": 13,
   "metadata": {},
   "outputs": [
    {
     "name": "stdout",
     "output_type": "stream",
     "text": [
      "3.0\n",
      "3\n",
      "0\n"
     ]
    }
   ],
   "source": [
    "print(a / b)        # a를 b로 나누었을 때 값 구하기, 연산자 / 사용\n",
    "print(a // b)       # a를 b로 나누었을 때 몫 구하기, 연산자 // 사용\n",
    "print(a % b)        # a를 b로 나누었을 때 나머지 구하기, 연산자 % 사용"
   ]
  },
  {
   "cell_type": "code",
   "execution_count": 14,
   "metadata": {},
   "outputs": [
    {
     "data": {
      "text/plain": [
       "64"
      ]
     },
     "execution_count": 14,
     "metadata": {},
     "output_type": "execute_result"
    }
   ],
   "source": [
    "4 ** 3         # 4의 세제곱, 연산자 ** 사용"
   ]
  },
  {
   "cell_type": "code",
   "execution_count": 15,
   "metadata": {},
   "outputs": [
    {
     "data": {
      "text/plain": [
       "7.0"
      ]
     },
     "execution_count": 15,
     "metadata": {},
     "output_type": "execute_result"
    }
   ],
   "source": [
    "3 + 2 ** 3 / (5-3)"
   ]
  },
  {
   "cell_type": "code",
   "execution_count": 16,
   "metadata": {},
   "outputs": [
    {
     "data": {
      "text/plain": [
       "3"
      ]
     },
     "execution_count": 16,
     "metadata": {},
     "output_type": "execute_result"
    }
   ],
   "source": [
    "abs(-3)        # -3의 절대값을 구함"
   ]
  },
  {
   "cell_type": "code",
   "execution_count": 17,
   "metadata": {},
   "outputs": [
    {
     "data": {
      "text/plain": [
       "3.142"
      ]
     },
     "execution_count": 17,
     "metadata": {},
     "output_type": "execute_result"
    }
   ],
   "source": [
    "round(3.14159, 3)    # 실수 3.14159를 소수점 넷째 자리에서 반올림하여 셋째 자리까지 출력"
   ]
  },
  {
   "cell_type": "code",
   "execution_count": 18,
   "metadata": {},
   "outputs": [
    {
     "name": "stdout",
     "output_type": "stream",
     "text": [
      "311\n",
      "2044\n"
     ]
    }
   ],
   "source": [
    "a = 0o467        # 8진수 표현\n",
    "b = 0x7fc        # 16진수 표현\n",
    "print(a)\n",
    "print(b)"
   ]
  },
  {
   "cell_type": "markdown",
   "metadata": {},
   "source": [
    "### 문자열"
   ]
  },
  {
   "cell_type": "code",
   "execution_count": 19,
   "metadata": {},
   "outputs": [
    {
     "data": {
      "text/plain": [
       "'Hello Python!'"
      ]
     },
     "execution_count": 19,
     "metadata": {},
     "output_type": "execute_result"
    }
   ],
   "source": [
    "a = \"Hello Python!\"\n",
    "a"
   ]
  },
  {
   "cell_type": "code",
   "execution_count": 20,
   "metadata": {},
   "outputs": [
    {
     "data": {
      "text/plain": [
       "str"
      ]
     },
     "execution_count": 20,
     "metadata": {},
     "output_type": "execute_result"
    }
   ],
   "source": [
    "type(a)"
   ]
  },
  {
   "cell_type": "code",
   "execution_count": 21,
   "metadata": {},
   "outputs": [
    {
     "name": "stdout",
     "output_type": "stream",
     "text": [
      "It's mine.\n"
     ]
    }
   ],
   "source": [
    "sen = \"It's mine.\"       # 작은따옴표를 문자열 안에 포함할 때\n",
    "print(sen)"
   ]
  },
  {
   "cell_type": "code",
   "execution_count": 22,
   "metadata": {},
   "outputs": [
    {
     "name": "stdout",
     "output_type": "stream",
     "text": [
      "“It is impossible.” He says.\n"
     ]
    }
   ],
   "source": [
    "sen2 = '“It is impossible.” He says.'    # 큰따옴표를 문자열 안에 포함할 때\n",
    "print(sen2)"
   ]
  },
  {
   "cell_type": "markdown",
   "metadata": {},
   "source": [
    "--------------"
   ]
  },
  {
   "cell_type": "markdown",
   "metadata": {},
   "source": [
    "문자열 안에 들어가는 따옴표 앞에 \\(백슬래시)를 사용하면 된다."
   ]
  },
  {
   "cell_type": "code",
   "execution_count": 23,
   "metadata": {},
   "outputs": [
    {
     "name": "stdout",
     "output_type": "stream",
     "text": [
      "It's mine.\n",
      "\"It is impossible.\" He says.\n"
     ]
    }
   ],
   "source": [
    "sen3 = 'It\\'s mine.'                       # 작은따옴표를 문자열 앞뒤와 안에 사용\n",
    "sen4 = \"\\\"It is impossible.\\\" He says.\"    # 큰따옴표를 문자열 앞뒤와 안에 사용\n",
    "print(sen3)\n",
    "print(sen4)"
   ]
  },
  {
   "cell_type": "code",
   "execution_count": 25,
   "metadata": {},
   "outputs": [
    {
     "name": "stdout",
     "output_type": "stream",
     "text": [
      "Hello!\n",
      "\n",
      "Python!\n"
     ]
    }
   ],
   "source": [
    "a = \"\"\"Hello!\n",
    "\n",
    "Python!\"\"\"\n",
    "print(a)"
   ]
  },
  {
   "cell_type": "code",
   "execution_count": 26,
   "metadata": {},
   "outputs": [
    {
     "name": "stdout",
     "output_type": "stream",
     "text": [
      "Hello!\n",
      "Python!\n"
     ]
    }
   ],
   "source": [
    "a = \"Hello!\\nPython!\"\n",
    "print(a)"
   ]
  },
  {
   "cell_type": "code",
   "execution_count": 27,
   "metadata": {},
   "outputs": [
    {
     "name": "stdout",
     "output_type": "stream",
     "text": [
      "Hello! Python!\n"
     ]
    }
   ],
   "source": [
    "a = \"Hello! \"\n",
    "b = \"Python!\"\n",
    "print(a + b)    # 문자열 변수인 a와 b를 연결"
   ]
  },
  {
   "cell_type": "code",
   "execution_count": 28,
   "metadata": {},
   "outputs": [
    {
     "data": {
      "text/plain": [
       "'Hello! Hello! Hello! '"
      ]
     },
     "execution_count": 28,
     "metadata": {},
     "output_type": "execute_result"
    }
   ],
   "source": [
    "a * 3          # 문자열 변수 a를 3번 반복"
   ]
  },
  {
   "cell_type": "code",
   "execution_count": 29,
   "metadata": {},
   "outputs": [
    {
     "data": {
      "text/plain": [
       "'263'"
      ]
     },
     "execution_count": 29,
     "metadata": {},
     "output_type": "execute_result"
    }
   ],
   "source": [
    "a = \"26\"\n",
    "b = \"3\"\n",
    "a + b         # 문자열 변수 a와 b를 연결"
   ]
  },
  {
   "cell_type": "code",
   "execution_count": 30,
   "metadata": {},
   "outputs": [
    {
     "data": {
      "text/plain": [
       "'262626'"
      ]
     },
     "execution_count": 30,
     "metadata": {},
     "output_type": "execute_result"
    }
   ],
   "source": [
    "a * 3        # 문자열 변수 a를 3번 반복"
   ]
  },
  {
   "cell_type": "code",
   "execution_count": 31,
   "metadata": {},
   "outputs": [
    {
     "ename": "TypeError",
     "evalue": "unsupported operand type(s) for +: 'int' and 'str'",
     "output_type": "error",
     "traceback": [
      "\u001b[1;31m---------------------------------------------------------------------------\u001b[0m",
      "\u001b[1;31mTypeError\u001b[0m                                 Traceback (most recent call last)",
      "\u001b[1;32m<ipython-input-31-5bea5ce515bf>\u001b[0m in \u001b[0;36m<module>\u001b[1;34m\u001b[0m\n\u001b[0;32m      1\u001b[0m \u001b[0ma\u001b[0m \u001b[1;33m=\u001b[0m \u001b[1;36m26\u001b[0m      \u001b[1;31m# 변수 a에 숫자 자료형(정수) 26을 저장\u001b[0m\u001b[1;33m\u001b[0m\u001b[1;33m\u001b[0m\u001b[0m\n\u001b[0;32m      2\u001b[0m \u001b[0mb\u001b[0m \u001b[1;33m=\u001b[0m\u001b[1;34m\"8\"\u001b[0m      \u001b[1;31m# 변수 b에 문자열 자료형 8을 저장\u001b[0m\u001b[1;33m\u001b[0m\u001b[1;33m\u001b[0m\u001b[0m\n\u001b[1;32m----> 3\u001b[1;33m \u001b[0ma\u001b[0m \u001b[1;33m+\u001b[0m \u001b[0mb\u001b[0m\u001b[1;33m\u001b[0m\u001b[1;33m\u001b[0m\u001b[0m\n\u001b[0m",
      "\u001b[1;31mTypeError\u001b[0m: unsupported operand type(s) for +: 'int' and 'str'"
     ]
    }
   ],
   "source": [
    "a = 26      # 변수 a에 숫자 자료형(정수) 26을 저장\n",
    "b =\"8\"      # 변수 b에 문자열 자료형 8을 저장\n",
    "a + b       # 연산은 동일한 자료형끼리만 가능"
   ]
  },
  {
   "cell_type": "markdown",
   "metadata": {},
   "source": [
    "#### 문자열 인덱싱과 슬라이싱"
   ]
  },
  {
   "cell_type": "code",
   "execution_count": 32,
   "metadata": {},
   "outputs": [],
   "source": [
    "a = \"Hello! Python!\""
   ]
  },
  {
   "cell_type": "code",
   "execution_count": 33,
   "metadata": {},
   "outputs": [
    {
     "data": {
      "text/plain": [
       "'!'"
      ]
     },
     "execution_count": 33,
     "metadata": {},
     "output_type": "execute_result"
    }
   ],
   "source": [
    "a[-1]       # 뒤에서부터 인덱스를 계산, 인덱스 -1의 위치는 ! "
   ]
  },
  {
   "cell_type": "code",
   "execution_count": 34,
   "metadata": {},
   "outputs": [
    {
     "data": {
      "text/plain": [
       "'l'"
      ]
     },
     "execution_count": 34,
     "metadata": {},
     "output_type": "execute_result"
    }
   ],
   "source": [
    "a[3]        # 뒤에서부터 인덱스를 계산, 인덱스 3의 위치는 l"
   ]
  },
  {
   "cell_type": "code",
   "execution_count": 35,
   "metadata": {},
   "outputs": [
    {
     "data": {
      "text/plain": [
       "'lo! Py'"
      ]
     },
     "execution_count": 35,
     "metadata": {},
     "output_type": "execute_result"
    }
   ],
   "source": [
    "a[3:9]      # 인덱스 3부터 8까지 추출"
   ]
  },
  {
   "cell_type": "code",
   "execution_count": 36,
   "metadata": {},
   "outputs": [
    {
     "data": {
      "text/plain": [
       "'lo! Pyt'"
      ]
     },
     "execution_count": 36,
     "metadata": {},
     "output_type": "execute_result"
    }
   ],
   "source": [
    "a[3:-4]    # 인덱스 3부터 -5까지 추출"
   ]
  },
  {
   "cell_type": "code",
   "execution_count": 37,
   "metadata": {},
   "outputs": [
    {
     "data": {
      "text/plain": [
       "'Hello! P'"
      ]
     },
     "execution_count": 37,
     "metadata": {},
     "output_type": "execute_result"
    }
   ],
   "source": [
    "a[:8]      # 문자열 처음부터 인덱스 7까지 추출"
   ]
  },
  {
   "cell_type": "code",
   "execution_count": 38,
   "metadata": {},
   "outputs": [
    {
     "data": {
      "text/plain": [
       "'lo! Python!'"
      ]
     },
     "execution_count": 38,
     "metadata": {},
     "output_type": "execute_result"
    }
   ],
   "source": [
    "a[3:]      # 인덱스 3부터 문자열 끝까지 추출"
   ]
  },
  {
   "cell_type": "code",
   "execution_count": 39,
   "metadata": {},
   "outputs": [
    {
     "name": "stdout",
     "output_type": "stream",
     "text": [
      "Live\n"
     ]
    }
   ],
   "source": [
    "a = \"Life\"                  # 변수 a에 문자열 자료형 \"Life\"를 저장\n",
    "b = a[0:2] + \"v\" + a[-1]    # 슬라이싱 활용\n",
    "print(b)"
   ]
  },
  {
   "cell_type": "markdown",
   "metadata": {},
   "source": [
    "#### 문자열 포맷팅\n",
    "- 문자열 안에 있는 어떤 값을 바꿀 때 사용하는 방법"
   ]
  },
  {
   "cell_type": "code",
   "execution_count": 40,
   "metadata": {},
   "outputs": [
    {
     "data": {
      "text/plain": [
       "'I eat 3 bananas.'"
      ]
     },
     "execution_count": 40,
     "metadata": {},
     "output_type": "execute_result"
    }
   ],
   "source": [
    "\"I eat %s bananas.\" %3         # %s 대신 3을 입력해서 값을 출력"
   ]
  },
  {
   "cell_type": "code",
   "execution_count": 41,
   "metadata": {},
   "outputs": [
    {
     "data": {
      "text/plain": [
       "'I eat three bananas.'"
      ]
     },
     "execution_count": 41,
     "metadata": {},
     "output_type": "execute_result"
    }
   ],
   "source": [
    "\"I eat %s bananas.\" %\"three\"   # %s 대신 “three”를 입력해서 값을 출력"
   ]
  },
  {
   "cell_type": "code",
   "execution_count": 42,
   "metadata": {},
   "outputs": [
    {
     "data": {
      "text/plain": [
       "'I like blue color.'"
      ]
     },
     "execution_count": 42,
     "metadata": {},
     "output_type": "execute_result"
    }
   ],
   "source": [
    "color = \"blue\"                 # color 변수를 생성\n",
    "\"I like %s color.\"  %color     # %s 대신 변수 color에 저장된 “blue” 값을 출력"
   ]
  },
  {
   "cell_type": "code",
   "execution_count": 43,
   "metadata": {},
   "outputs": [
    {
     "data": {
      "text/plain": [
       "'          hello'"
      ]
     },
     "execution_count": 43,
     "metadata": {},
     "output_type": "execute_result"
    }
   ],
   "source": [
    "ar = \"%15s\"  %\"hello\"         # 문자열 길이 15, hello 오른쪽 정렬 \n",
    "ar"
   ]
  },
  {
   "cell_type": "code",
   "execution_count": 44,
   "metadata": {},
   "outputs": [
    {
     "data": {
      "text/plain": [
       "'hello          '"
      ]
     },
     "execution_count": 44,
     "metadata": {},
     "output_type": "execute_result"
    }
   ],
   "source": [
    "ar = \"%-15s\" % \"hello\"        # 문자열 길이 15, hello 왼쪽 정렬\n",
    "ar"
   ]
  },
  {
   "cell_type": "code",
   "execution_count": 45,
   "metadata": {},
   "outputs": [
    {
     "name": "stdout",
     "output_type": "stream",
     "text": [
      "John     hello\n"
     ]
    }
   ],
   "source": [
    "ar = \"John%10s\" % \"hello\"     # John 다음에 공백 10개 추가, hello 오른쪽 정렬\n",
    "print(ar)"
   ]
  },
  {
   "cell_type": "code",
   "execution_count": 46,
   "metadata": {},
   "outputs": [
    {
     "name": "stdout",
     "output_type": "stream",
     "text": [
      "  34\n"
     ]
    }
   ],
   "source": [
    "a = \"%4d\"%34                  # 공백을 4개 만들고 정수를 오른쪽 정렬 출력\n",
    "print(a)"
   ]
  },
  {
   "cell_type": "code",
   "execution_count": 47,
   "metadata": {},
   "outputs": [
    {
     "name": "stdout",
     "output_type": "stream",
     "text": [
      "      5.62\n"
     ]
    }
   ],
   "source": [
    "b = \"%10.2f\" %5.6182359      # 공백을 10개 만들고 실수를 소수점 둘째 자리까지 오른쪽 정렬 \n",
    "print(b)"
   ]
  },
  {
   "cell_type": "code",
   "execution_count": 48,
   "metadata": {},
   "outputs": [
    {
     "name": "stdout",
     "output_type": "stream",
     "text": [
      "I need 5 eggs.\n"
     ]
    }
   ],
   "source": [
    "test = \"I need {} eggs.\".format(5)   # format 함수에 있는 값 “5”가 {} 위치에 들어감\n",
    "print(test)"
   ]
  },
  {
   "cell_type": "code",
   "execution_count": 49,
   "metadata": {},
   "outputs": [
    {
     "name": "stdout",
     "output_type": "stream",
     "text": [
      "I like white egg. I need 5 eggs.\n"
     ]
    }
   ],
   "source": [
    "color = \"white\"\n",
    "num = 5\n",
    "test = \"I like {} egg. I need {} eggs.\".format(color, num)  # 여러 개의 값을 변수로 입력\n",
    "print(test)"
   ]
  },
  {
   "cell_type": "code",
   "execution_count": 50,
   "metadata": {},
   "outputs": [
    {
     "name": "stdout",
     "output_type": "stream",
     "text": [
      "5.62\n"
     ]
    }
   ],
   "source": [
    "a = \"{:.2f}\".format(5.6182359)   # 소수점 둘째 자리까지 표현(소수점 셋째 자리에서 반올림)\n",
    "print(a)"
   ]
  },
  {
   "cell_type": "code",
   "execution_count": 51,
   "metadata": {},
   "outputs": [
    {
     "name": "stdout",
     "output_type": "stream",
     "text": [
      "           5.62\n"
     ]
    }
   ],
   "source": [
    "x = 5.6182359\n",
    "a = \"{:15.2f}\".format(x)         # 숫자 길이 15, 오른쪽 정렬, 소수점 둘째 자리까지 표현\n",
    "print(a)"
   ]
  },
  {
   "cell_type": "code",
   "execution_count": 52,
   "metadata": {},
   "outputs": [
    {
     "data": {
      "text/plain": [
       "2"
      ]
     },
     "execution_count": 52,
     "metadata": {},
     "output_type": "execute_result"
    }
   ],
   "source": [
    "a = \"I eat banana.\"\n",
    "a.count(\"n\")         # 문자열에서 “n”의 개수 구하기"
   ]
  },
  {
   "cell_type": "code",
   "execution_count": 53,
   "metadata": {},
   "outputs": [
    {
     "name": "stdout",
     "output_type": "stream",
     "text": [
      "8\n",
      "8\n"
     ]
    }
   ],
   "source": [
    "a = \"I eat banana.\"\n",
    "print(a.find(\"n\"))      # find() 함수 활용, 문자열에서 “n”이 처음 나오는 인덱스 값 구하기\n",
    "print(a.index(\"n\"))     # index() 함수 활용, 문자열에서 “n”이 처음 나오는 인덱스 값 구하기"
   ]
  },
  {
   "cell_type": "code",
   "execution_count": 54,
   "metadata": {},
   "outputs": [
    {
     "name": "stdout",
     "output_type": "stream",
     "text": [
      "-1\n"
     ]
    },
    {
     "ename": "ValueError",
     "evalue": "substring not found",
     "output_type": "error",
     "traceback": [
      "\u001b[1;31m---------------------------------------------------------------------------\u001b[0m",
      "\u001b[1;31mValueError\u001b[0m                                Traceback (most recent call last)",
      "\u001b[1;32m<ipython-input-54-625485223990>\u001b[0m in \u001b[0;36m<module>\u001b[1;34m\u001b[0m\n\u001b[0;32m      1\u001b[0m \u001b[0mprint\u001b[0m\u001b[1;33m(\u001b[0m\u001b[0ma\u001b[0m\u001b[1;33m.\u001b[0m\u001b[0mfind\u001b[0m\u001b[1;33m(\u001b[0m\u001b[1;34m\"d\"\u001b[0m\u001b[1;33m)\u001b[0m\u001b[1;33m)\u001b[0m      \u001b[1;31m# 문자열에서 “d”가 처음 나오는 인덱스 값 구하기\u001b[0m\u001b[1;33m\u001b[0m\u001b[1;33m\u001b[0m\u001b[0m\n\u001b[1;32m----> 2\u001b[1;33m \u001b[0mprint\u001b[0m\u001b[1;33m(\u001b[0m\u001b[0ma\u001b[0m\u001b[1;33m.\u001b[0m\u001b[0mindex\u001b[0m\u001b[1;33m(\u001b[0m\u001b[1;34m\"d\"\u001b[0m\u001b[1;33m)\u001b[0m\u001b[1;33m)\u001b[0m     \u001b[1;31m# 문자열에서 “d”가 처음 나오는 인덱스 값 구하기\u001b[0m\u001b[1;33m\u001b[0m\u001b[1;33m\u001b[0m\u001b[0m\n\u001b[0m",
      "\u001b[1;31mValueError\u001b[0m: substring not found"
     ]
    }
   ],
   "source": [
    "print(a.find(\"d\"))      # 문자열에서 “d”가 처음 나오는 인덱스 값 구하기\n",
    "print(a.index(\"d\"))     # 문자열에서 “d”가 처음 나오는 인덱스 값 구하기"
   ]
  },
  {
   "cell_type": "markdown",
   "metadata": {},
   "source": [
    "찾는 문자가 없는 경우, find는 -1의 값을 돌려주고, index()는 에러를 발생시킨다.\n",
    "\n",
    "----------------"
   ]
  },
  {
   "cell_type": "code",
   "execution_count": 55,
   "metadata": {},
   "outputs": [
    {
     "name": "stdout",
     "output_type": "stream",
     "text": [
      "f,r,u,i,t\n"
     ]
    }
   ],
   "source": [
    "b = \",\".join(\"fruit\")   # join() 함수 안에 있는 문자열의 문자 사이에 “,” 삽입하기\n",
    "print(b)"
   ]
  },
  {
   "cell_type": "code",
   "execution_count": 60,
   "metadata": {},
   "outputs": [
    {
     "name": "stdout",
     "output_type": "stream",
     "text": [
      "f\n",
      ",\n",
      "r\n"
     ]
    }
   ],
   "source": [
    "print(b[0])\n",
    "print(b[1])\n",
    "print(b[2])"
   ]
  },
  {
   "cell_type": "code",
   "execution_count": 61,
   "metadata": {},
   "outputs": [
    {
     "name": "stdout",
     "output_type": "stream",
     "text": [
      "HELLO\n",
      "hello\n"
     ]
    }
   ],
   "source": [
    "a = \"Hello\"\n",
    "print(a.upper())       # 문자를 전부 대문자로 변경\n",
    "print(a.lower())       # 문자를 전부 소문자로 변경"
   ]
  },
  {
   "cell_type": "code",
   "execution_count": 62,
   "metadata": {},
   "outputs": [
    {
     "name": "stdout",
     "output_type": "stream",
     "text": [
      "Hello\n",
      "Hello  \n",
      "  Hello\n"
     ]
    }
   ],
   "source": [
    "a = \"  Hello  \"\n",
    "print(a.strip()) ; print(a.lstrip()) ; print(a.rstrip()) "
   ]
  },
  {
   "cell_type": "code",
   "execution_count": 63,
   "metadata": {},
   "outputs": [
    {
     "data": {
      "text/plain": [
       "['I', 'eat', 'banana.']"
      ]
     },
     "execution_count": 63,
     "metadata": {},
     "output_type": "execute_result"
    }
   ],
   "source": [
    "a = \"I eat banana.\"\n",
    "a.split()           # 공백을 기준으로 문자열 나누기"
   ]
  },
  {
   "cell_type": "code",
   "execution_count": 64,
   "metadata": {},
   "outputs": [
    {
     "data": {
      "text/plain": [
       "['a', 'b', 'c', 'd', 'e']"
      ]
     },
     "execution_count": 64,
     "metadata": {},
     "output_type": "execute_result"
    }
   ],
   "source": [
    "a = \"a:b:c:d:e\"\n",
    "a.split(':')        # ':'을 기준으로 문자열 나누기"
   ]
  },
  {
   "cell_type": "code",
   "execution_count": 67,
   "metadata": {},
   "outputs": [
    {
     "data": {
      "text/plain": [
       "'b'"
      ]
     },
     "execution_count": 67,
     "metadata": {},
     "output_type": "execute_result"
    }
   ],
   "source": [
    "a.split(':')[1]"
   ]
  },
  {
   "cell_type": "code",
   "execution_count": 68,
   "metadata": {},
   "outputs": [
    {
     "name": "stdout",
     "output_type": "stream",
     "text": [
      "I ebt banana.\n",
      "I ebt bbnbnb.\n"
     ]
    }
   ],
   "source": [
    "a = \"I eat banana.\"\n",
    "print(a.replace(\"a\", \"b\", 1))   # 문자열에서 “a”를 “b”로 1회 변경\n",
    "print(a.replace(\"a\", \"b\"))      # 문자열에서 “a”를 “b”로 모두 변경"
   ]
  },
  {
   "cell_type": "markdown",
   "metadata": {},
   "source": [
    "### 불(Bool)"
   ]
  },
  {
   "cell_type": "code",
   "execution_count": 69,
   "metadata": {},
   "outputs": [
    {
     "name": "stdout",
     "output_type": "stream",
     "text": [
      "True\n",
      "False\n"
     ]
    }
   ],
   "source": [
    "print(1 == 1)       # 1과 1이 같은지 판단,  True 출력\n",
    "print(10 < 8 )      # 10이 8보다 작은지 판단,  False 출력"
   ]
  },
  {
   "cell_type": "code",
   "execution_count": 70,
   "metadata": {},
   "outputs": [
    {
     "name": "stdout",
     "output_type": "stream",
     "text": [
      "True\n",
      "False\n"
     ]
    }
   ],
   "source": [
    "print(bool(\"python\"))        # \"python”이라는 문자열이 있으므로 True\n",
    "print(bool(None))           #  None 또는 ““인 경우 False"
   ]
  },
  {
   "cell_type": "markdown",
   "metadata": {},
   "source": [
    "- 따옴표 안에 공백(띄어쓰기)은 참이다.  \n",
    "- 0은 False, 1은 True  \n",
    "\n",
    "-----------------"
   ]
  },
  {
   "cell_type": "markdown",
   "metadata": {},
   "source": [
    "## 2.3 복합 자료형"
   ]
  },
  {
   "cell_type": "markdown",
   "metadata": {},
   "source": [
    "### 리스트\n",
    "- 대괄호[ ]로 표현"
   ]
  },
  {
   "cell_type": "code",
   "execution_count": 71,
   "metadata": {},
   "outputs": [],
   "source": [
    "a = [ ]                                 # 공백(띄어쓰기)을 데이터로 갖는 리스트\n",
    "b = [1, 2, 3, 4, 5]                     # 숫자를 데이터로 갖는 리스트\n",
    "c = [\"I\", \"like\", \"python\"]             # 문자열을 데이터로 갖는 리스트\n",
    "d = [1, 2, \"Python\"]                    # 숫자와 문자열을 데이터로 갖는 리스트\n",
    "e = [1, 2, [\"Python\", \"C\", \"Java\"]]     # 숫자와 리스트를 데이터로 갖는 리스트"
   ]
  },
  {
   "cell_type": "code",
   "execution_count": 73,
   "metadata": {},
   "outputs": [
    {
     "name": "stdout",
     "output_type": "stream",
     "text": [
      "[1, 2, ['Python', 'C', 'Java']]\n"
     ]
    }
   ],
   "source": [
    "print(e)"
   ]
  },
  {
   "cell_type": "code",
   "execution_count": 74,
   "metadata": {},
   "outputs": [
    {
     "name": "stdout",
     "output_type": "stream",
     "text": [
      "[3, 7, 9, 4, 6, 10]\n",
      "[3, 7, 9, 3, 7, 9, 3, 7, 9]\n"
     ]
    }
   ],
   "source": [
    "a = [3, 7, 9]\n",
    "b = [4, 6, 10]\n",
    "print(a + b)        # 리스트 자료형을 가진 변수 a에 변수 b의 데이터를 추가\n",
    "print(a * 3)        # 리스트 자료형을 가진 변수 a의 데이터를 세 번 반복"
   ]
  },
  {
   "cell_type": "code",
   "execution_count": 75,
   "metadata": {},
   "outputs": [
    {
     "name": "stdout",
     "output_type": "stream",
     "text": [
      "95\n",
      "['soup', 'cookie']\n"
     ]
    }
   ],
   "source": [
    "test = [75, 69, 95, 84, 89]\n",
    "food = [\"milk\", \"juice\", \"rice\", \"soup\", \"cookie\"]\n",
    "print(test[2])          # 인덱스가 0부터 시작하기 때문에 3번째 데이터인 95를 출력\n",
    "print(food[3:5])        # 인덱스 3~4에 있는 데이터인 ‘soup’, ‘cookie’를 출력"
   ]
  },
  {
   "cell_type": "code",
   "execution_count": 76,
   "metadata": {},
   "outputs": [
    {
     "name": "stdout",
     "output_type": "stream",
     "text": [
      "['Python', 'C', 'Java']\n",
      "['Python', 'C']\n"
     ]
    }
   ],
   "source": [
    "a = [1, 2, [\"Python\", \"C\", \"Java\"]]  # 숫자와 리스트를 데이터로 갖는 리스트(중첩 리스트)\n",
    "print(a[2])         # 변수 a에 저장된 데이터 중 3번째 데이터를 출력\n",
    "print(a[2][:2])     # 출력된 3번째 데이터에서 처음부터 인덱스 1까지 슬라이싱 "
   ]
  },
  {
   "cell_type": "code",
   "execution_count": 77,
   "metadata": {},
   "outputs": [
    {
     "name": "stdout",
     "output_type": "stream",
     "text": [
      "[1, 3, 5, 8, 6, 2, 4]\n"
     ]
    }
   ],
   "source": [
    "a = [1, 3, 5, 7, 6, 2, 4]\n",
    "a[3] = 8            # 변수 a의 인덱스3 데이터를 8로 변경\n",
    "print(a)"
   ]
  },
  {
   "cell_type": "code",
   "execution_count": 78,
   "metadata": {},
   "outputs": [
    {
     "name": "stdout",
     "output_type": "stream",
     "text": [
      "[1, 3, 5, 6, 2, 4]\n"
     ]
    }
   ],
   "source": [
    "a = [1, 3, 5, 7, 6, 2, 4]\n",
    "del a[3]           # 변수 a의 인덱스3 데이터 삭제\n",
    "print(a)"
   ]
  },
  {
   "cell_type": "code",
   "execution_count": 79,
   "metadata": {},
   "outputs": [
    {
     "name": "stdout",
     "output_type": "stream",
     "text": [
      "[1, 2, 3, 4, 3]\n"
     ]
    }
   ],
   "source": [
    "a = [1, 2, 3, 4]\n",
    "a.append(3)        # 변수 a의 마지막 위치에 3을 추가\n",
    "print(a)"
   ]
  },
  {
   "cell_type": "code",
   "execution_count": 80,
   "metadata": {},
   "outputs": [
    {
     "name": "stdout",
     "output_type": "stream",
     "text": [
      "[1, 2, 3, 4, 3, [3, 5, 9]]\n"
     ]
    }
   ],
   "source": [
    "a.append([3, 5, 9])  # 변수 a에 리스트를 추가\n",
    "print(a)"
   ]
  },
  {
   "cell_type": "code",
   "execution_count": 81,
   "metadata": {},
   "outputs": [
    {
     "name": "stdout",
     "output_type": "stream",
     "text": [
      "[7, 1, 2, 3, 4]\n"
     ]
    }
   ],
   "source": [
    "a = [1, 2, 3, 4]\n",
    "a.insert(0, 7)      # 변수 a의 인덱스 0 위치에 7을 추가\n",
    "print(a)"
   ]
  },
  {
   "cell_type": "code",
   "execution_count": 82,
   "metadata": {},
   "outputs": [
    {
     "name": "stdout",
     "output_type": "stream",
     "text": [
      "[1, 2, 3, 5, 4, 3, 2, 1]\n"
     ]
    }
   ],
   "source": [
    "a = [1, 2, 3, 4, 5, 4, 3, 2, 1]\n",
    "a.remove(4)        # remove(x)는 리스트에서 첫 번째로 일치하는 x를 삭제\n",
    "print(a)"
   ]
  },
  {
   "cell_type": "code",
   "execution_count": 83,
   "metadata": {},
   "outputs": [
    {
     "name": "stdout",
     "output_type": "stream",
     "text": [
      "[1, 2, 3, 4, 5, 6, 7]\n"
     ]
    }
   ],
   "source": [
    "a = [1, 3, 5, 7, 6, 2, 4]\n",
    "a.sort()           # 변수 a의 데이터를 오름차순 정렬\n",
    "print(a)"
   ]
  },
  {
   "cell_type": "code",
   "execution_count": 84,
   "metadata": {},
   "outputs": [
    {
     "name": "stdout",
     "output_type": "stream",
     "text": [
      "[7, 6, 5, 4, 3, 2, 1]\n"
     ]
    }
   ],
   "source": [
    "a = [1, 3, 5, 7, 6, 2, 4]\n",
    "a.sort(reverse=True)      # 변수 a의 데이터를 내림차순 정렬\n",
    "print(a)"
   ]
  },
  {
   "cell_type": "code",
   "execution_count": 86,
   "metadata": {},
   "outputs": [
    {
     "name": "stdout",
     "output_type": "stream",
     "text": [
      "[4, 2, 6, 7, 5, 3, 1]\n"
     ]
    }
   ],
   "source": [
    "a = [1, 3, 5, 7, 6, 2, 4]\n",
    "a.reverse()            # 변수 a의 데이터 순서 뒤집기\n",
    "print(a)"
   ]
  },
  {
   "cell_type": "code",
   "execution_count": 87,
   "metadata": {},
   "outputs": [
    {
     "name": "stdout",
     "output_type": "stream",
     "text": [
      "4\n",
      "[1, 3, 5, 7, 6, 2]\n"
     ]
    }
   ],
   "source": [
    "a = [1, 3, 5, 7, 6, 2, 4]\n",
    "print(a.pop())         # 변수 a의 마지막 데이터를 보여준 다음 삭제\n",
    "print(a)"
   ]
  },
  {
   "cell_type": "code",
   "execution_count": 88,
   "metadata": {},
   "outputs": [
    {
     "name": "stdout",
     "output_type": "stream",
     "text": [
      "7\n",
      "[1, 3, 5, 6, 2, 4]\n"
     ]
    }
   ],
   "source": [
    "a = [1, 3, 5, 7, 6, 2, 4]\n",
    "print(a.pop(3))       # 변수 a의 인덱스 3 데이터를 보여준 다음 삭제\n",
    "print(a)"
   ]
  },
  {
   "cell_type": "code",
   "execution_count": 89,
   "metadata": {},
   "outputs": [
    {
     "name": "stdout",
     "output_type": "stream",
     "text": [
      "[1, 3, 5, 7, 6, 2, 4, 3, 5, 7]\n"
     ]
    }
   ],
   "source": [
    "a = [1, 3, 5, 7, 6, 2, 4]\n",
    "a.extend([3, 5, 7])   # 변수 a에 3, 5, 7을 추가함\n",
    "print(a)"
   ]
  },
  {
   "cell_type": "code",
   "execution_count": 90,
   "metadata": {},
   "outputs": [
    {
     "name": "stdout",
     "output_type": "stream",
     "text": [
      "[1, 3, 5, 7, 6, 2, 4, 3, 5, 7]\n"
     ]
    }
   ],
   "source": [
    "a = [1, 3, 5, 7, 6, 2, 4]\n",
    "b = [3, 5, 7]\n",
    "a.extend(b)          # 변수 a에 변수 b 데이터를 추가함\n",
    "print(a)"
   ]
  },
  {
   "cell_type": "markdown",
   "metadata": {},
   "source": [
    "### 튜플\n",
    "- 소괄호( )로 표현\n",
    "- 리스트 내의 데이터들을 추가, 삭제, 수정할 수 있지만 튜플은 <b>수정이 불가능</b>"
   ]
  },
  {
   "cell_type": "code",
   "execution_count": 91,
   "metadata": {},
   "outputs": [],
   "source": [
    "tp1 = ( )\n",
    "tp2 = (1, )             # 데이터가 하나만 있는 튜플을 만들 경우 데이터 뒤에 ,(쉼표) 필수 입력\n",
    "tp3 = (1, 2, 3)\n",
    "tp4 = 1, 2, 3           # 괄호 () 생략 가능\n",
    "tp5 = (\"a\", \"b\", (\"ab\", \"cd\"))"
   ]
  },
  {
   "cell_type": "code",
   "execution_count": 92,
   "metadata": {},
   "outputs": [
    {
     "name": "stdout",
     "output_type": "stream",
     "text": [
      "(1,)\n"
     ]
    }
   ],
   "source": [
    "print(tp2)"
   ]
  },
  {
   "cell_type": "code",
   "execution_count": 94,
   "metadata": {},
   "outputs": [
    {
     "name": "stdout",
     "output_type": "stream",
     "text": [
      "('a', 'b', ('ab', 'cd'))\n"
     ]
    }
   ],
   "source": [
    "print(tp5)"
   ]
  },
  {
   "cell_type": "code",
   "execution_count": 95,
   "metadata": {},
   "outputs": [
    {
     "name": "stdout",
     "output_type": "stream",
     "text": [
      "(1, 2, 3, 'a', 'b', 'c', 4, 5, 6)\n",
      "(4, 5, 6, 4, 5, 6)\n"
     ]
    }
   ],
   "source": [
    "tp1 = (1, 2, 3, \"a\", \"b\", \"c\")\n",
    "tp2 = (4, 5, 6)\n",
    "print(tp1 + tp2)        # 튜플 자료형을 가진 변수 tp1과 tp2의 데이터를 합치기\n",
    "print(tp2 * 2)          # 튜플 자료형을 가진 변수 tp2의 데이터를 두 번 반복하기"
   ]
  },
  {
   "cell_type": "code",
   "execution_count": 96,
   "metadata": {},
   "outputs": [
    {
     "name": "stdout",
     "output_type": "stream",
     "text": [
      "('ab', 'cd', 'ef')\n",
      "('ab', 'cd')\n"
     ]
    }
   ],
   "source": [
    "tp = (1, 2, (\"ab\", \"cd\", \"ef\"), 3, \"a\", \"b\", \"c\")   # 숫자, 문자열, 튜플을 데이터로 갖는 튜플\n",
    "print(tp[2])            # 변수 tp에 저장된 데이터 중 3번째 데이터를 출력 \n",
    "print(tp[2][:2])        # 변수 tp의 3번째 데이터에서 처음부터 인덱스 1까지 슬라이싱 "
   ]
  },
  {
   "cell_type": "markdown",
   "metadata": {},
   "source": [
    "### 딕셔너리\n",
    "- 중괄호 { }로 표현, key와 value 값을 쌍으로 갖는 자료형"
   ]
  },
  {
   "cell_type": "code",
   "execution_count": 97,
   "metadata": {},
   "outputs": [],
   "source": [
    "dict1 = {\"name\" : \"Lee\", \"age\" : 29, \"birth\" : \"0320\"}  # 예시\n",
    "dict2 = {1 : \"ab\"}                  # Key에 정수형, Value에 문자열 자료형을 입력한 예\n",
    "dict3 = {\"test\" : [1, 3, 5, 7]}     # Value에 리스트 자료형을 입력한 예"
   ]
  },
  {
   "cell_type": "code",
   "execution_count": 98,
   "metadata": {},
   "outputs": [
    {
     "name": "stdout",
     "output_type": "stream",
     "text": [
      "[1, 2]\n"
     ]
    }
   ],
   "source": [
    "dict4 = {\"a\" : [1, 2], \"b\" : [3, 4], \"c\" : [5, 6]}\n",
    "print(dict4[\"a\"])"
   ]
  },
  {
   "cell_type": "code",
   "execution_count": 99,
   "metadata": {},
   "outputs": [
    {
     "name": "stdout",
     "output_type": "stream",
     "text": [
      "{'a': [1, 2], 'b': [3, 4]}\n"
     ]
    }
   ],
   "source": [
    "dict5 = {\"a\" : [1, 2]}\n",
    "dict5[\"b\"] = [3, 4]      # 변수 dict5에 Key:Value가 \"b\" : [3, 4]인 딕셔너리 쌍 추가\n",
    "print(dict5)"
   ]
  },
  {
   "cell_type": "code",
   "execution_count": 100,
   "metadata": {},
   "outputs": [
    {
     "name": "stdout",
     "output_type": "stream",
     "text": [
      "{'a': [1, 2], 'b': [3, 4]}\n"
     ]
    }
   ],
   "source": [
    "dict6 = {\"a\" : [1, 2], \"b\" : [3, 4], \"c\" : [5, 6]}\n",
    "del dict6[\"c\"]          # Key \"c\"에 해당하는 Value [5, 6]을 삭제하면 Key : Value 쌍이 삭제됨\n",
    "print(dict6)"
   ]
  },
  {
   "cell_type": "code",
   "execution_count": 102,
   "metadata": {},
   "outputs": [
    {
     "data": {
      "text/plain": [
       "{'a': 2, 'b': 4, 'c': 6}"
      ]
     },
     "execution_count": 102,
     "metadata": {},
     "output_type": "execute_result"
    }
   ],
   "source": [
    "list1 = [[\"a\", 2], [\"b\", 4], [\"c\", 6]]\n",
    "dict(list1)             # 중첩 리스트로 구성된 자료형을 딕셔너리로 변경"
   ]
  },
  {
   "cell_type": "code",
   "execution_count": 103,
   "metadata": {},
   "outputs": [
    {
     "data": {
      "text/plain": [
       "{'a': 2, 'b': 4, 'c': 6}"
      ]
     },
     "execution_count": 103,
     "metadata": {},
     "output_type": "execute_result"
    }
   ],
   "source": [
    "list2 = [(\"a\", 2), (\"b\", 4), (\"c\", 6)]\n",
    "dict(list2)             # 리스트 내 튜플로 구성된 자료형을 딕셔너리로 변경"
   ]
  },
  {
   "cell_type": "code",
   "execution_count": 104,
   "metadata": {},
   "outputs": [
    {
     "data": {
      "text/plain": [
       "{'a': 2, 'b': 4, 'c': 6}"
      ]
     },
     "execution_count": 104,
     "metadata": {},
     "output_type": "execute_result"
    }
   ],
   "source": [
    "tp1 = ([\"a\", 2], [\"b\", 4], [\"c\", 6])\n",
    "dict(tp1)               # 튜플 내 리스트로 구성된 자료형을 딕셔너리로 변경"
   ]
  },
  {
   "cell_type": "code",
   "execution_count": 105,
   "metadata": {},
   "outputs": [
    {
     "data": {
      "text/plain": [
       "{'a': 2, 'b': 4, 'c': 6}"
      ]
     },
     "execution_count": 105,
     "metadata": {},
     "output_type": "execute_result"
    }
   ],
   "source": [
    "tp2 = ((\"a\", 2), (\"b\", 4), (\"c\", 6))\n",
    "dict(tp2)               # 중첩 튜플로 구성된 자료형을 딕셔너리로 변경"
   ]
  },
  {
   "cell_type": "code",
   "execution_count": 106,
   "metadata": {},
   "outputs": [
    {
     "data": {
      "text/plain": [
       "3.0"
      ]
     },
     "execution_count": 106,
     "metadata": {},
     "output_type": "execute_result"
    }
   ],
   "source": [
    "a = 3       # 변수 a에 정수형 자료 저장\n",
    "float(a)    # 변수 a를 실수형으로 변환"
   ]
  },
  {
   "cell_type": "code",
   "execution_count": 107,
   "metadata": {},
   "outputs": [
    {
     "data": {
      "text/plain": [
       "3"
      ]
     },
     "execution_count": 107,
     "metadata": {},
     "output_type": "execute_result"
    }
   ],
   "source": [
    "a = 3.619   # 변수 a에 실수형 자료 저장\n",
    "int(a)      # 변수 a를 정수형으로 변환(소수점 자리는 버림)"
   ]
  },
  {
   "cell_type": "code",
   "execution_count": 108,
   "metadata": {},
   "outputs": [
    {
     "data": {
      "text/plain": [
       "(1, 2, 3, 4, 5)"
      ]
     },
     "execution_count": 108,
     "metadata": {},
     "output_type": "execute_result"
    }
   ],
   "source": [
    "b = [1, 2, 3, 4, 5]     # 변수 b에 리스트 자료 저장\n",
    "tuple(b)                # 변수 b를 튜플형으로 변환"
   ]
  },
  {
   "cell_type": "code",
   "execution_count": 109,
   "metadata": {},
   "outputs": [
    {
     "ename": "TypeError",
     "evalue": "cannot convert dictionary update sequence element #0 to a sequence",
     "output_type": "error",
     "traceback": [
      "\u001b[1;31m---------------------------------------------------------------------------\u001b[0m",
      "\u001b[1;31mTypeError\u001b[0m                                 Traceback (most recent call last)",
      "\u001b[1;32m<ipython-input-109-af4b18f9aa99>\u001b[0m in \u001b[0;36m<module>\u001b[1;34m\u001b[0m\n\u001b[1;32m----> 1\u001b[1;33m \u001b[0mdict\u001b[0m\u001b[1;33m(\u001b[0m\u001b[0mb\u001b[0m\u001b[1;33m)\u001b[0m     \u001b[1;31m# 변수 b가 쌍으로 구성되지 않았기 때문에 딕셔너리로 변경 시 에러 발생\u001b[0m\u001b[1;33m\u001b[0m\u001b[1;33m\u001b[0m\u001b[0m\n\u001b[0m",
      "\u001b[1;31mTypeError\u001b[0m: cannot convert dictionary update sequence element #0 to a sequence"
     ]
    }
   ],
   "source": [
    "dict(b)     # 변수 b가 쌍으로 구성되지 않았기 때문에 딕셔너리로 변경 시 에러 발생"
   ]
  },
  {
   "cell_type": "code",
   "execution_count": 110,
   "metadata": {},
   "outputs": [
    {
     "name": "stdout",
     "output_type": "stream",
     "text": [
      "<class 'int'> <class 'float'>\n",
      "<class 'str'> <class 'bool'>\n",
      "<class 'list'> <class 'tuple'> <class 'dict'>\n"
     ]
    }
   ],
   "source": [
    "a = 5\t\t\t\t\t\t\t\t\t# 정수\n",
    "b = 3.14\t\t\t\t\t\t\t\t# 실수\n",
    "c = \"love\"\t\t\t\t\t\t\t\t# 문자열\n",
    "d = True\t\t\t\t\t\t\t\t# 불\n",
    "e = [1, 2, 3, 4, 5]\t\t\t\t\t\t# 리스트\n",
    "f = (6, 7, 8, 9, 10)\t\t\t\t\t# 튜플\n",
    "g = {\"name\":\"park\",\"number\":\"505\"} \t\t# 딕셔너리\n",
    "print(type(a),type(b))\n",
    "print(type(c),type(d))\n",
    "print(type(e),type(f),type(g))"
   ]
  },
  {
   "cell_type": "code",
   "execution_count": 111,
   "metadata": {},
   "outputs": [
    {
     "name": "stdout",
     "output_type": "stream",
     "text": [
      "dict_keys(['name', 'age', 'birth'])\n",
      "['name', 'age', 'birth']\n"
     ]
    }
   ],
   "source": [
    "dict1 = {\"name\" : \"Lee\", \"age\" : 29, \"birth\" : \"0320\"}\n",
    "print(dict1.keys())          # 변수 dict1의 Key만 모아서 출력\n",
    "print(list(dict1.keys()))    # 변수 dict1의 Key만 모인 객체를 리스트로 출력"
   ]
  },
  {
   "cell_type": "code",
   "execution_count": 112,
   "metadata": {},
   "outputs": [
    {
     "data": {
      "text/plain": [
       "['Lee', 29, '0320']"
      ]
     },
     "execution_count": 112,
     "metadata": {},
     "output_type": "execute_result"
    }
   ],
   "source": [
    "list(dict1.values())         # 변수 dict1의 Value만 모인 객체를 리스트로 출력"
   ]
  },
  {
   "cell_type": "code",
   "execution_count": 113,
   "metadata": {},
   "outputs": [
    {
     "data": {
      "text/plain": [
       "dict_items([('name', 'Lee'), ('age', 29), ('birth', '0320')])"
      ]
     },
     "execution_count": 113,
     "metadata": {},
     "output_type": "execute_result"
    }
   ],
   "source": [
    "dict2 = {\"name\" : \"Lee\", \"age\" : 29, \"birth\" : \"0320\"}\n",
    "dict2.items()                # 변수 dict2의 Key와 Value 쌍을 튜플로 출력"
   ]
  },
  {
   "cell_type": "code",
   "execution_count": 114,
   "metadata": {},
   "outputs": [
    {
     "name": "stdout",
     "output_type": "stream",
     "text": [
      "{}\n"
     ]
    }
   ],
   "source": [
    "dict3 = {\"name\" : \"Lee\", \"age\" : 29, \"birth\" : \"0320\"}\n",
    "dict3.clear()       # 변수 dict3 안의 모든 쌍을 삭제\n",
    "print(dict3)"
   ]
  },
  {
   "cell_type": "code",
   "execution_count": 115,
   "metadata": {},
   "outputs": [
    {
     "name": "stdout",
     "output_type": "stream",
     "text": [
      "True\n"
     ]
    }
   ],
   "source": [
    "dict3 = {\"name\" : \"Lee\", \"age\" : 29, \"birth\" : \"0320\"}\n",
    "print(\"name\" in dict3)    # 변수 dict3 안에 \"name\" Key가 있으면 True, 없으면 False"
   ]
  },
  {
   "cell_type": "code",
   "execution_count": 116,
   "metadata": {},
   "outputs": [
    {
     "name": "stdout",
     "output_type": "stream",
     "text": [
      "False\n"
     ]
    }
   ],
   "source": [
    "dict3 = {\"name\" : \"Lee\", \"age\" : 29, \"birth\" : \"0320\"}\n",
    "print(\"Lee\" in dict3)    # value 값에 있으면 False"
   ]
  },
  {
   "cell_type": "markdown",
   "metadata": {},
   "source": [
    "### 집합"
   ]
  },
  {
   "cell_type": "code",
   "execution_count": 117,
   "metadata": {},
   "outputs": [
    {
     "name": "stdout",
     "output_type": "stream",
     "text": [
      "{1, 2, 3, 4, 5, 7}\n"
     ]
    }
   ],
   "source": [
    "set1 = set([1, 2, 5, 3, 7, 4])\n",
    "print(set1)                     # 숫자로 된 리스트의 집합 자료형은 분해되면서 오름차순으로 출력됨"
   ]
  },
  {
   "cell_type": "code",
   "execution_count": 118,
   "metadata": {},
   "outputs": [
    {
     "name": "stdout",
     "output_type": "stream",
     "text": [
      "{'o', ' ', 'l', 'u', 'b', 'c', 's', 'h'}\n"
     ]
    }
   ],
   "source": [
    "set2 = set(\"school bus\")        # 문자열의 경우 문자로 분해되고 중복 문자는 제거됨\n",
    "print(set2)                     # 집합 자료형은 순서를 가지지 않으므로 랜덤으로 출력됨"
   ]
  },
  {
   "cell_type": "code",
   "execution_count": 119,
   "metadata": {},
   "outputs": [
    {
     "name": "stdout",
     "output_type": "stream",
     "text": [
      "{5, 6, 7}\n",
      "{5, 6, 7}\n"
     ]
    }
   ],
   "source": [
    "set1 = set([1, 2, 3, 4, 5, 6, 7])\n",
    "set2 = set([5, 6, 7, 8, 9, 10, 11])\n",
    "print(set1 & set2)             # 교집합(두 집합의 공통 데이터)\n",
    "print(set1.intersection(set2)) # 교집합(set2.intersection(set1)과 결과는 동일)"
   ]
  },
  {
   "cell_type": "code",
   "execution_count": 120,
   "metadata": {},
   "outputs": [
    {
     "name": "stdout",
     "output_type": "stream",
     "text": [
      "{1, 2, 3, 4, 5, 6, 7, 8, 9, 10, 11}\n",
      "{1, 2, 3, 4, 5, 6, 7, 8, 9, 10, 11}\n"
     ]
    }
   ],
   "source": [
    "print(set1 | set2)          # 합집합(두 집합의 전체 데이터), |은 [shift] + [\\]\n",
    "print(set1.union(set2))     # 합집합(set2.union(set1)과 결과는 동일)"
   ]
  },
  {
   "cell_type": "code",
   "execution_count": 121,
   "metadata": {},
   "outputs": [
    {
     "name": "stdout",
     "output_type": "stream",
     "text": [
      "{1, 2, 3, 4}\n",
      "{1, 2, 3, 4}\n"
     ]
    }
   ],
   "source": [
    "print(set1 - set2)              # 차집합(set1에 포함되나 set2에 포함되지 않는 집합)\n",
    "print(set1.difference(set2))    # 차집합(set2.difference(set1)과 결과는 다름)"
   ]
  },
  {
   "cell_type": "code",
   "execution_count": 122,
   "metadata": {},
   "outputs": [
    {
     "name": "stdout",
     "output_type": "stream",
     "text": [
      "{8, 9, 10, 11}\n",
      "{8, 9, 10, 11}\n"
     ]
    }
   ],
   "source": [
    "print(set2 - set1)             # 차집합(set2에 포함되나 set1에 포함되지 않는 집합)\n",
    "print(set2.difference(set1))   # 차집합(set1.difference(set2)과 결과는 다름)"
   ]
  },
  {
   "cell_type": "code",
   "execution_count": 123,
   "metadata": {},
   "outputs": [
    {
     "data": {
      "text/plain": [
       "{1, 2, 3, 4, 5}"
      ]
     },
     "execution_count": 123,
     "metadata": {},
     "output_type": "execute_result"
    }
   ],
   "source": [
    "set1 = set([1, 2, 3, 5])\n",
    "set1.add(4)\n",
    "set1"
   ]
  },
  {
   "cell_type": "code",
   "execution_count": 125,
   "metadata": {},
   "outputs": [
    {
     "data": {
      "text/plain": [
       "{1, 2, 3, 4, 5, 6, 7, 8}"
      ]
     },
     "execution_count": 125,
     "metadata": {},
     "output_type": "execute_result"
    }
   ],
   "source": [
    "set2 = set([1, 2, 3, 4, 5])\n",
    "set2.update([5, 6, 7, 8])\n",
    "set2"
   ]
  },
  {
   "cell_type": "code",
   "execution_count": 126,
   "metadata": {},
   "outputs": [
    {
     "data": {
      "text/plain": [
       "{1, 2, 4, 5}"
      ]
     },
     "execution_count": 126,
     "metadata": {},
     "output_type": "execute_result"
    }
   ],
   "source": [
    "set3 = set([1, 2, 3, 4, 5])\n",
    "set3.remove(3)\n",
    "set3"
   ]
  },
  {
   "cell_type": "code",
   "execution_count": null,
   "metadata": {},
   "outputs": [],
   "source": []
  }
 ],
 "metadata": {
  "interpreter": {
   "hash": "ac59ebe37160ed0dfa835113d9b8498d9f09ceb179beaac4002f036b9467c963"
  },
  "kernelspec": {
   "display_name": "Python 3",
   "language": "python",
   "name": "python3"
  },
  "language_info": {
   "codemirror_mode": {
    "name": "ipython",
    "version": 3
   },
   "file_extension": ".py",
   "mimetype": "text/x-python",
   "name": "python",
   "nbconvert_exporter": "python",
   "pygments_lexer": "ipython3",
   "version": "3.7.6"
  }
 },
 "nbformat": 4,
 "nbformat_minor": 4
}
